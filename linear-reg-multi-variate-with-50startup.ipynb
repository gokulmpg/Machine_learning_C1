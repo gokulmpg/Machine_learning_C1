{
 "cells": [
  {
   "cell_type": "code",
   "execution_count": 1,
   "id": "0d3183e0",
   "metadata": {
    "_cell_guid": "b1076dfc-b9ad-4769-8c92-a6c4dae69d19",
    "_uuid": "8f2839f25d086af736a60e9eeb907d3b93b6e0e5",
    "execution": {
     "iopub.execute_input": "2024-03-11T18:29:00.513843Z",
     "iopub.status.busy": "2024-03-11T18:29:00.513443Z",
     "iopub.status.idle": "2024-03-11T18:29:01.431778Z",
     "shell.execute_reply": "2024-03-11T18:29:01.430339Z"
    },
    "papermill": {
     "duration": 0.92685,
     "end_time": "2024-03-11T18:29:01.434452",
     "exception": false,
     "start_time": "2024-03-11T18:29:00.507602",
     "status": "completed"
    },
    "tags": []
   },
   "outputs": [
    {
     "name": "stdout",
     "output_type": "stream",
     "text": [
      "/kaggle/input/50-startups/50_Startups.csv\n"
     ]
    }
   ],
   "source": [
    "# This Python 3 environment comes with many helpful analytics libraries installed\n",
    "# It is defined by the kaggle/python Docker image: https://github.com/kaggle/docker-python\n",
    "# For example, here's several helpful packages to load\n",
    "\n",
    "import numpy as np # linear algebra\n",
    "import pandas as pd # data processing, CSV file I/O (e.g. pd.read_csv)\n",
    "\n",
    "# Input data files are available in the read-only \"../input/\" directory\n",
    "# For example, running this (by clicking run or pressing Shift+Enter) will list all files under the input directory\n",
    "\n",
    "import os\n",
    "for dirname, _, filenames in os.walk('/kaggle/input'):\n",
    "    for filename in filenames:\n",
    "        print(os.path.join(dirname, filename))\n",
    "\n",
    "# You can write up to 20GB to the current directory (/kaggle/working/) that gets preserved as output when you create a version using \"Save & Run All\" \n",
    "# You can also write temporary files to /kaggle/temp/, but they won't be saved outside of the current session"
   ]
  },
  {
   "cell_type": "code",
   "execution_count": 2,
   "id": "5718f59c",
   "metadata": {
    "execution": {
     "iopub.execute_input": "2024-03-11T18:29:01.443807Z",
     "iopub.status.busy": "2024-03-11T18:29:01.442931Z",
     "iopub.status.idle": "2024-03-11T18:29:02.908780Z",
     "shell.execute_reply": "2024-03-11T18:29:02.907959Z"
    },
    "papermill": {
     "duration": 1.4731,
     "end_time": "2024-03-11T18:29:02.911224",
     "exception": false,
     "start_time": "2024-03-11T18:29:01.438124",
     "status": "completed"
    },
    "tags": []
   },
   "outputs": [],
   "source": [
    "from sklearn.preprocessing import LabelEncoder, OneHotEncoder\n",
    "from sklearn.model_selection import train_test_split\n",
    "from sklearn.linear_model import LinearRegression\n",
    "\n"
   ]
  },
  {
   "cell_type": "code",
   "execution_count": 3,
   "id": "be7fe8a7",
   "metadata": {
    "execution": {
     "iopub.execute_input": "2024-03-11T18:29:02.919607Z",
     "iopub.status.busy": "2024-03-11T18:29:02.918936Z",
     "iopub.status.idle": "2024-03-11T18:29:02.936766Z",
     "shell.execute_reply": "2024-03-11T18:29:02.935540Z"
    },
    "papermill": {
     "duration": 0.024819,
     "end_time": "2024-03-11T18:29:02.939416",
     "exception": false,
     "start_time": "2024-03-11T18:29:02.914597",
     "status": "completed"
    },
    "tags": []
   },
   "outputs": [],
   "source": [
    "dataset = pd.read_csv('/kaggle/input/50-startups/50_Startups.csv')"
   ]
  },
  {
   "cell_type": "code",
   "execution_count": 4,
   "id": "375260b7",
   "metadata": {
    "execution": {
     "iopub.execute_input": "2024-03-11T18:29:02.947766Z",
     "iopub.status.busy": "2024-03-11T18:29:02.947328Z",
     "iopub.status.idle": "2024-03-11T18:29:02.957331Z",
     "shell.execute_reply": "2024-03-11T18:29:02.956223Z"
    },
    "papermill": {
     "duration": 0.016751,
     "end_time": "2024-03-11T18:29:02.959553",
     "exception": false,
     "start_time": "2024-03-11T18:29:02.942802",
     "status": "completed"
    },
    "tags": []
   },
   "outputs": [],
   "source": [
    "X = dataset.iloc[ : , :-1].values\n",
    "Y = dataset.iloc[ : ,  4 ].values"
   ]
  },
  {
   "cell_type": "code",
   "execution_count": 5,
   "id": "ecaf05eb",
   "metadata": {
    "execution": {
     "iopub.execute_input": "2024-03-11T18:29:02.967663Z",
     "iopub.status.busy": "2024-03-11T18:29:02.967286Z",
     "iopub.status.idle": "2024-03-11T18:29:02.978536Z",
     "shell.execute_reply": "2024-03-11T18:29:02.977565Z"
    },
    "papermill": {
     "duration": 0.017775,
     "end_time": "2024-03-11T18:29:02.980740",
     "exception": false,
     "start_time": "2024-03-11T18:29:02.962965",
     "status": "completed"
    },
    "tags": []
   },
   "outputs": [],
   "source": [
    "labelencoder = LabelEncoder()\n",
    "X[: , 3] = labelencoder.fit_transform(X[ : , 3])\n",
    "onehotencoder = OneHotEncoder()\n",
    "X = onehotencoder.fit_transform(X).toarray()"
   ]
  },
  {
   "cell_type": "code",
   "execution_count": 6,
   "id": "6da918f1",
   "metadata": {
    "execution": {
     "iopub.execute_input": "2024-03-11T18:29:02.988592Z",
     "iopub.status.busy": "2024-03-11T18:29:02.988245Z",
     "iopub.status.idle": "2024-03-11T18:29:02.992689Z",
     "shell.execute_reply": "2024-03-11T18:29:02.991602Z"
    },
    "papermill": {
     "duration": 0.010846,
     "end_time": "2024-03-11T18:29:02.994811",
     "exception": false,
     "start_time": "2024-03-11T18:29:02.983965",
     "status": "completed"
    },
    "tags": []
   },
   "outputs": [],
   "source": [
    "X = X[: , 1:]"
   ]
  },
  {
   "cell_type": "code",
   "execution_count": 7,
   "id": "e4f31c85",
   "metadata": {
    "execution": {
     "iopub.execute_input": "2024-03-11T18:29:03.002716Z",
     "iopub.status.busy": "2024-03-11T18:29:03.002374Z",
     "iopub.status.idle": "2024-03-11T18:29:03.009698Z",
     "shell.execute_reply": "2024-03-11T18:29:03.008750Z"
    },
    "papermill": {
     "duration": 0.013761,
     "end_time": "2024-03-11T18:29:03.011848",
     "exception": false,
     "start_time": "2024-03-11T18:29:02.998087",
     "status": "completed"
    },
    "tags": []
   },
   "outputs": [],
   "source": [
    "X_train, X_test, Y_train, Y_test = train_test_split(X, Y, test_size = 0.2, random_state = 0)"
   ]
  },
  {
   "cell_type": "code",
   "execution_count": 8,
   "id": "8e5042c2",
   "metadata": {
    "execution": {
     "iopub.execute_input": "2024-03-11T18:29:03.019888Z",
     "iopub.status.busy": "2024-03-11T18:29:03.019533Z",
     "iopub.status.idle": "2024-03-11T18:29:03.055234Z",
     "shell.execute_reply": "2024-03-11T18:29:03.054147Z"
    },
    "papermill": {
     "duration": 0.042242,
     "end_time": "2024-03-11T18:29:03.057476",
     "exception": false,
     "start_time": "2024-03-11T18:29:03.015234",
     "status": "completed"
    },
    "tags": []
   },
   "outputs": [
    {
     "data": {
      "text/html": [
       "<style>#sk-container-id-1 {color: black;background-color: white;}#sk-container-id-1 pre{padding: 0;}#sk-container-id-1 div.sk-toggleable {background-color: white;}#sk-container-id-1 label.sk-toggleable__label {cursor: pointer;display: block;width: 100%;margin-bottom: 0;padding: 0.3em;box-sizing: border-box;text-align: center;}#sk-container-id-1 label.sk-toggleable__label-arrow:before {content: \"▸\";float: left;margin-right: 0.25em;color: #696969;}#sk-container-id-1 label.sk-toggleable__label-arrow:hover:before {color: black;}#sk-container-id-1 div.sk-estimator:hover label.sk-toggleable__label-arrow:before {color: black;}#sk-container-id-1 div.sk-toggleable__content {max-height: 0;max-width: 0;overflow: hidden;text-align: left;background-color: #f0f8ff;}#sk-container-id-1 div.sk-toggleable__content pre {margin: 0.2em;color: black;border-radius: 0.25em;background-color: #f0f8ff;}#sk-container-id-1 input.sk-toggleable__control:checked~div.sk-toggleable__content {max-height: 200px;max-width: 100%;overflow: auto;}#sk-container-id-1 input.sk-toggleable__control:checked~label.sk-toggleable__label-arrow:before {content: \"▾\";}#sk-container-id-1 div.sk-estimator input.sk-toggleable__control:checked~label.sk-toggleable__label {background-color: #d4ebff;}#sk-container-id-1 div.sk-label input.sk-toggleable__control:checked~label.sk-toggleable__label {background-color: #d4ebff;}#sk-container-id-1 input.sk-hidden--visually {border: 0;clip: rect(1px 1px 1px 1px);clip: rect(1px, 1px, 1px, 1px);height: 1px;margin: -1px;overflow: hidden;padding: 0;position: absolute;width: 1px;}#sk-container-id-1 div.sk-estimator {font-family: monospace;background-color: #f0f8ff;border: 1px dotted black;border-radius: 0.25em;box-sizing: border-box;margin-bottom: 0.5em;}#sk-container-id-1 div.sk-estimator:hover {background-color: #d4ebff;}#sk-container-id-1 div.sk-parallel-item::after {content: \"\";width: 100%;border-bottom: 1px solid gray;flex-grow: 1;}#sk-container-id-1 div.sk-label:hover label.sk-toggleable__label {background-color: #d4ebff;}#sk-container-id-1 div.sk-serial::before {content: \"\";position: absolute;border-left: 1px solid gray;box-sizing: border-box;top: 0;bottom: 0;left: 50%;z-index: 0;}#sk-container-id-1 div.sk-serial {display: flex;flex-direction: column;align-items: center;background-color: white;padding-right: 0.2em;padding-left: 0.2em;position: relative;}#sk-container-id-1 div.sk-item {position: relative;z-index: 1;}#sk-container-id-1 div.sk-parallel {display: flex;align-items: stretch;justify-content: center;background-color: white;position: relative;}#sk-container-id-1 div.sk-item::before, #sk-container-id-1 div.sk-parallel-item::before {content: \"\";position: absolute;border-left: 1px solid gray;box-sizing: border-box;top: 0;bottom: 0;left: 50%;z-index: -1;}#sk-container-id-1 div.sk-parallel-item {display: flex;flex-direction: column;z-index: 1;position: relative;background-color: white;}#sk-container-id-1 div.sk-parallel-item:first-child::after {align-self: flex-end;width: 50%;}#sk-container-id-1 div.sk-parallel-item:last-child::after {align-self: flex-start;width: 50%;}#sk-container-id-1 div.sk-parallel-item:only-child::after {width: 0;}#sk-container-id-1 div.sk-dashed-wrapped {border: 1px dashed gray;margin: 0 0.4em 0.5em 0.4em;box-sizing: border-box;padding-bottom: 0.4em;background-color: white;}#sk-container-id-1 div.sk-label label {font-family: monospace;font-weight: bold;display: inline-block;line-height: 1.2em;}#sk-container-id-1 div.sk-label-container {text-align: center;}#sk-container-id-1 div.sk-container {/* jupyter's `normalize.less` sets `[hidden] { display: none; }` but bootstrap.min.css set `[hidden] { display: none !important; }` so we also need the `!important` here to be able to override the default hidden behavior on the sphinx rendered scikit-learn.org. See: https://github.com/scikit-learn/scikit-learn/issues/21755 */display: inline-block !important;position: relative;}#sk-container-id-1 div.sk-text-repr-fallback {display: none;}</style><div id=\"sk-container-id-1\" class=\"sk-top-container\"><div class=\"sk-text-repr-fallback\"><pre>LinearRegression()</pre><b>In a Jupyter environment, please rerun this cell to show the HTML representation or trust the notebook. <br />On GitHub, the HTML representation is unable to render, please try loading this page with nbviewer.org.</b></div><div class=\"sk-container\" hidden><div class=\"sk-item\"><div class=\"sk-estimator sk-toggleable\"><input class=\"sk-toggleable__control sk-hidden--visually\" id=\"sk-estimator-id-1\" type=\"checkbox\" checked><label for=\"sk-estimator-id-1\" class=\"sk-toggleable__label sk-toggleable__label-arrow\">LinearRegression</label><div class=\"sk-toggleable__content\"><pre>LinearRegression()</pre></div></div></div></div></div>"
      ],
      "text/plain": [
       "LinearRegression()"
      ]
     },
     "execution_count": 8,
     "metadata": {},
     "output_type": "execute_result"
    }
   ],
   "source": [
    "regressor = LinearRegression()\n",
    "regressor.fit(X_train, Y_train)"
   ]
  },
  {
   "cell_type": "code",
   "execution_count": 9,
   "id": "4bae839d",
   "metadata": {
    "execution": {
     "iopub.execute_input": "2024-03-11T18:29:03.065705Z",
     "iopub.status.busy": "2024-03-11T18:29:03.065366Z",
     "iopub.status.idle": "2024-03-11T18:29:03.070596Z",
     "shell.execute_reply": "2024-03-11T18:29:03.069488Z"
    },
    "papermill": {
     "duration": 0.011772,
     "end_time": "2024-03-11T18:29:03.072701",
     "exception": false,
     "start_time": "2024-03-11T18:29:03.060929",
     "status": "completed"
    },
    "tags": []
   },
   "outputs": [],
   "source": [
    "y_pred = regressor.predict(X_test)"
   ]
  },
  {
   "cell_type": "code",
   "execution_count": null,
   "id": "cb61dd43",
   "metadata": {
    "papermill": {
     "duration": 0.003068,
     "end_time": "2024-03-11T18:29:03.079193",
     "exception": false,
     "start_time": "2024-03-11T18:29:03.076125",
     "status": "completed"
    },
    "tags": []
   },
   "outputs": [],
   "source": []
  }
 ],
 "metadata": {
  "kaggle": {
   "accelerator": "none",
   "dataSources": [
    {
     "datasetId": 21716,
     "sourceId": 27925,
     "sourceType": "datasetVersion"
    }
   ],
   "dockerImageVersionId": 30664,
   "isGpuEnabled": false,
   "isInternetEnabled": true,
   "language": "python",
   "sourceType": "notebook"
  },
  "kernelspec": {
   "display_name": "Python 3",
   "language": "python",
   "name": "python3"
  },
  "language_info": {
   "codemirror_mode": {
    "name": "ipython",
    "version": 3
   },
   "file_extension": ".py",
   "mimetype": "text/x-python",
   "name": "python",
   "nbconvert_exporter": "python",
   "pygments_lexer": "ipython3",
   "version": "3.10.13"
  },
  "papermill": {
   "default_parameters": {},
   "duration": 6.370166,
   "end_time": "2024-03-11T18:29:03.704149",
   "environment_variables": {},
   "exception": null,
   "input_path": "__notebook__.ipynb",
   "output_path": "__notebook__.ipynb",
   "parameters": {},
   "start_time": "2024-03-11T18:28:57.333983",
   "version": "2.5.0"
  }
 },
 "nbformat": 4,
 "nbformat_minor": 5
}
